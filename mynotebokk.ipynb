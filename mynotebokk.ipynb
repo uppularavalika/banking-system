{
 "cells": [
  {
   "cell_type": "code",
   "execution_count": 2,
   "metadata": {},
   "outputs": [],
   "source": [
    "x=5"
   ]
  },
  {
   "cell_type": "code",
   "execution_count": 3,
   "metadata": {},
   "outputs": [
    {
     "data": {
      "text/plain": [
       "5"
      ]
     },
     "execution_count": 3,
     "metadata": {},
     "output_type": "execute_result"
    }
   ],
   "source": [
    "x"
   ]
  },
  {
   "cell_type": "code",
   "execution_count": 4,
   "metadata": {},
   "outputs": [
    {
     "name": "stdout",
     "output_type": "stream",
     "text": [
      "Collecting mysql-connector-pythonNote: you may need to restart the kernel to use updated packages.\n",
      "\n",
      "  Obtaining dependency information for mysql-connector-python from https://files.pythonhosted.org/packages/96/db/50f7397d0c8b013b87ad402f60892335dab6680a373c6aa583fa20c7b7a8/mysql_connector_python-8.2.0-cp312-cp312-win_amd64.whl.metadata\n",
      "  Downloading mysql_connector_python-8.2.0-cp312-cp312-win_amd64.whl.metadata (2.1 kB)\n",
      "Collecting protobuf<=4.21.12,>=4.21.1 (from mysql-connector-python)\n",
      "  Downloading protobuf-4.21.12-cp310-abi3-win_amd64.whl (527 kB)\n",
      "     ---------------------------------------- 0.0/527.0 kB ? eta -:--:--\n",
      "      --------------------------------------- 10.2/527.0 kB ? eta -:--:--\n",
      "     -- ---------------------------------- 30.7/527.0 kB 435.7 kB/s eta 0:00:02\n",
      "     ------ ------------------------------ 92.2/527.0 kB 871.5 kB/s eta 0:00:01\n",
      "     ------------------------- ------------ 358.4/527.0 kB 2.5 MB/s eta 0:00:01\n",
      "     -------------------------------------- 527.0/527.0 kB 3.0 MB/s eta 0:00:00\n",
      "Downloading mysql_connector_python-8.2.0-cp312-cp312-win_amd64.whl (14.2 MB)\n",
      "   ---------------------------------------- 0.0/14.2 MB ? eta -:--:--\n",
      "   -- ------------------------------------- 0.8/14.2 MB 25.4 MB/s eta 0:00:01\n",
      "   ----- ---------------------------------- 1.9/14.2 MB 24.3 MB/s eta 0:00:01\n",
      "   -------- ------------------------------- 2.9/14.2 MB 23.4 MB/s eta 0:00:01\n",
      "   -------- ------------------------------- 3.1/14.2 MB 21.6 MB/s eta 0:00:01\n",
      "   ----------- ---------------------------- 4.2/14.2 MB 19.3 MB/s eta 0:00:01\n",
      "   ------------- -------------------------- 4.8/14.2 MB 18.2 MB/s eta 0:00:01\n",
      "   --------------- ------------------------ 5.4/14.2 MB 17.3 MB/s eta 0:00:01\n",
      "   ----------------- ---------------------- 6.1/14.2 MB 16.8 MB/s eta 0:00:01\n",
      "   ------------------ --------------------- 6.6/14.2 MB 16.3 MB/s eta 0:00:01\n",
      "   -------------------- ------------------- 7.3/14.2 MB 16.0 MB/s eta 0:00:01\n",
      "   ---------------------- ----------------- 7.9/14.2 MB 15.7 MB/s eta 0:00:01\n",
      "   ----------------------- ---------------- 8.5/14.2 MB 15.5 MB/s eta 0:00:01\n",
      "   ------------------------- -------------- 9.1/14.2 MB 15.3 MB/s eta 0:00:01\n",
      "   --------------------------- ------------ 9.7/14.2 MB 15.1 MB/s eta 0:00:01\n",
      "   ---------------------------- ----------- 10.3/14.2 MB 14.9 MB/s eta 0:00:01\n",
      "   ------------------------------ --------- 10.9/14.2 MB 14.6 MB/s eta 0:00:01\n",
      "   -------------------------------- ------- 11.5/14.2 MB 14.2 MB/s eta 0:00:01\n",
      "   ---------------------------------- ----- 12.1/14.2 MB 13.6 MB/s eta 0:00:01\n",
      "   ----------------------------------- ---- 12.7/14.2 MB 13.4 MB/s eta 0:00:01\n",
      "   ------------------------------------- -- 13.3/14.2 MB 13.1 MB/s eta 0:00:01\n",
      "   ---------------------------------------  13.9/14.2 MB 13.1 MB/s eta 0:00:01\n",
      "   ---------------------------------------  14.2/14.2 MB 12.8 MB/s eta 0:00:01\n",
      "   ---------------------------------------- 14.2/14.2 MB 11.9 MB/s eta 0:00:00\n",
      "Installing collected packages: protobuf, mysql-connector-python\n",
      "Successfully installed mysql-connector-python-8.2.0 protobuf-4.21.12\n"
     ]
    },
    {
     "name": "stderr",
     "output_type": "stream",
     "text": [
      "\n",
      "[notice] A new release of pip is available: 23.2.1 -> 23.3.1\n",
      "[notice] To update, run: python.exe -m pip install --upgrade pip\n"
     ]
    }
   ],
   "source": [
    "pip install mysql-connector-python"
   ]
  },
  {
   "cell_type": "code",
   "execution_count": null,
   "metadata": {},
   "outputs": [],
   "source": []
  }
 ],
 "metadata": {
  "kernelspec": {
   "display_name": "Python 3",
   "language": "python",
   "name": "python3"
  },
  "language_info": {
   "codemirror_mode": {
    "name": "ipython",
    "version": 3
   },
   "file_extension": ".py",
   "mimetype": "text/x-python",
   "name": "python",
   "nbconvert_exporter": "python",
   "pygments_lexer": "ipython3",
   "version": "3.12.0"
  }
 },
 "nbformat": 4,
 "nbformat_minor": 2
}
